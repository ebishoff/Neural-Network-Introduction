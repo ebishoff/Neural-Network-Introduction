{
 "cells": [
  {
   "cell_type": "code",
   "execution_count": 1,
   "metadata": {},
   "outputs": [
    {
     "name": "stderr",
     "output_type": "stream",
     "text": [
      "C:\\Users\\ebish\\Anaconda3\\lib\\site-packages\\h5py\\__init__.py:36: FutureWarning: Conversion of the second argument of issubdtype from `float` to `np.floating` is deprecated. In future, it will be treated as `np.float64 == np.dtype(float).type`.\n",
      "  from ._conv import register_converters as _register_converters\n"
     ]
    }
   ],
   "source": [
    "import tensorflow as tf\n",
    "import numpy as np\n",
    "import matplotlib.pyplot as plt"
   ]
  },
  {
   "cell_type": "markdown",
   "metadata": {},
   "source": [
    "<h2>Define Hyper-parameters</h2>"
   ]
  },
  {
   "cell_type": "code",
   "execution_count": 77,
   "metadata": {},
   "outputs": [],
   "source": [
    "#define number of training iterations\n",
    "NUM_ITER = 10000\n",
    "#define learning rate\n",
    "lr = .1"
   ]
  },
  {
   "cell_type": "markdown",
   "metadata": {},
   "source": [
    "<h2>Define your input data and expected labels</h2>"
   ]
  },
  {
   "cell_type": "code",
   "execution_count": 78,
   "metadata": {},
   "outputs": [],
   "source": [
    "#define the training input data\n",
    "x = np.array([[0,0],[1,0],[1,1],[0,1]],np.float32)\n",
    "#define the target outputs/labels for AND gate\n",
    "y = np.array([0,1,0,1],np.float32) #(for XOR gate)\n",
    "#y=np.array([0,0,1,0],np.float32) (for AND gate)\n",
    "#y = np.array([0,1,1,1],np.float32)       (uncomment this line if you are doing OR gate)\n",
    "y = np.reshape(y,[4,1])"
   ]
  },
  {
   "cell_type": "markdown",
   "metadata": {},
   "source": [
    "<h2>Define placeholder and Variables</h2>"
   ]
  },
  {
   "cell_type": "code",
   "execution_count": 79,
   "metadata": {},
   "outputs": [],
   "source": [
    "#rest the graph\n",
    "tf.reset_default_graph()\n",
    "#define the placeholder to feed the training data later\n",
    "X = tf.placeholder(tf.float32,shape=[4,2],name='X')\n",
    "Y = tf.placeholder(tf.float32,shape=[4,1],name='Y')\n",
    "\n",
    "#define the weights and initialize with random normal distribution\n",
    "#we need weights and biases for the hidden layer and the ouput layer\n",
    "W=tf.Variable(tf.random_normal([2,2]),tf.float32,name='W')\n",
    "W2=tf.Variable(tf.random_normal([2,1]),tf.float32,name='W2')\n",
    "#define the bias with zero initialization\n",
    "b=tf.Variable(tf.zeros([2]),tf.float32,name='b')\n",
    "b2=tf.Variable(tf.zeros([1]),tf.float32,name='b2')"
   ]
  },
  {
   "cell_type": "markdown",
   "metadata": {},
   "source": [
    "<h2>Define the neural network</h2>"
   ]
  },
  {
   "cell_type": "code",
   "execution_count": 80,
   "metadata": {},
   "outputs": [],
   "source": [
    "hidden_layer=tf.sigmoid(tf.add(tf.matmul(X,W),b))\n",
    "Y_hat=tf.add(tf.matmul(hidden_layer,W2),b2)\n"
   ]
  },
  {
   "cell_type": "markdown",
   "metadata": {},
   "source": [
    "<h2>Define cost function</h2>"
   ]
  },
  {
   "cell_type": "markdown",
   "metadata": {},
   "source": []
  },
  {
   "cell_type": "code",
   "execution_count": 81,
   "metadata": {},
   "outputs": [],
   "source": [
    "#sigmoid_cross_entropy takes sigmoid for the output so no need to put it above\n",
    "cost=tf.reduce_sum(tf.nn.sigmoid_cross_entropy_with_logits(logits=Y_hat, labels=Y))\n",
    "opt=tf.train.GradientDescentOptimizer(learning_rate=lr)\n",
    "opt=opt.minimize(cost)\n"
   ]
  },
  {
   "cell_type": "markdown",
   "metadata": {},
   "source": [
    "<h2>Execute training</h2>"
   ]
  },
  {
   "cell_type": "code",
   "execution_count": 82,
   "metadata": {
    "scrolled": false
   },
   "outputs": [
    {
     "name": "stdout",
     "output_type": "stream",
     "text": [
      "Epoch 0,Cost= 3.133\n",
      "Epoch 1000,Cost= 0.278\n",
      "Epoch 2000,Cost= 0.075\n",
      "Epoch 3000,Cost= 0.042\n",
      "Epoch 4000,Cost= 0.029\n",
      "Epoch 5000,Cost= 0.022\n",
      "Epoch 6000,Cost= 0.018\n",
      "Epoch 7000,Cost= 0.015\n",
      "Epoch 8000,Cost= 0.013\n",
      "Epoch 9000,Cost= 0.011\n"
     ]
    }
   ],
   "source": [
    "#initialize tensorflow variables\n",
    "init = tf.global_variables_initializer()\n",
    "\n",
    "#start tensorflow session\n",
    "with tf.Session() as sess:\n",
    "    #run initialization\n",
    "    sess.run(init)\n",
    "    #training for number of iterations\n",
    "    for i in range(NUM_ITER):\n",
    "        #every iteration we run optimization on the training data X and labels Y\n",
    "        sess.run(opt,feed_dict = {X:x,Y:y})\n",
    "        if i % 1000 ==0:\n",
    "            cos = sess.run(cost,feed_dict={X:x, Y:y})\n",
    "            print(\"Epoch \"+str(i)+\",Cost= {:.3f}\".format(cos))\n",
    "        \n",
    "    \n",
    "    #after training, we acquire the weight and bias\n",
    "    #np.squeeze plays a role to get rid of the redundant dimension [i.e.make (2,1) be (2,)]\n",
    "    W = np.squeeze(sess.run(W))\n",
    "    W2 = np.squeeze(sess.run(W2))\n",
    "    b = np.squeeze(sess.run(b))\n",
    "    b2=np.squeeze(sess.run(b2))"
   ]
  },
  {
   "cell_type": "markdown",
   "metadata": {},
   "source": [
    "<h2>Plot</h2>"
   ]
  },
  {
   "cell_type": "code",
   "execution_count": 83,
   "metadata": {},
   "outputs": [
    {
     "data": {
      "image/png": "[encoded data removed]",
      "text/plain": [
       "<Figure size 432x288 with 1 Axes>"
      ]
     },
     "metadata": {},
     "output_type": "display_data"
    }
   ],
   "source": [
    "#plot out the decision line determined by learned weight and bias\n",
    "import matplotlib.pyplot as plt\n",
    "plot_x = np.array([np.min(x[:, 0] - 0.2), np.max(x[:, 1]+0.2)])\n",
    "plot_y = 1 / W[1,0] * (-W[0,0] * plot_x - b[0])\n",
    "plot_y2 = 1 / W[1,1] * (-W[0,1] * plot_x - b[1])\n",
    "#plot_y2 = 1 / W2[1] * (-W2[0] * plot_x - b2)\n",
    "\n",
    "plt.scatter(x[:, 0], x[:, 1], c=np.squeeze(y), s=100, cmap='viridis')\n",
    "plt.plot(plot_x, plot_y, color='k', linewidth=2)\n",
    "plt.plot(plot_x, plot_y2,color='k', linewidth=2)\n",
    "plt.xlim([-0.2, 1.2]); plt.ylim([-0.2, 1.25]);\n",
    "plt.show()"
   ]
  },
  {
   "cell_type": "markdown",
   "metadata": {},
   "source": [
    "# Some interesting finds"
   ]
  },
  {
   "cell_type": "markdown",
   "metadata": {},
   "source": [
    "When we have learning_rate=.1 we easily find the boundaries for the XOR when we do at least 10000 iterations to guarantee that we find the boundaries. Sometime when our learning_rate=.01 it finds the two boundaries and other times it doesn't. When we have our learning rate too big like learning_rate=5 we are able to see the cost function oscillate between cost values which makes sense because it means that our learning rate value is too big to find the local minimum value. "
   ]
  }
 ],
 "metadata": {
  "kernelspec": {
   "display_name": "Python 3",
   "language": "python",
   "name": "python3"
  },
  "language_info": {
   "codemirror_mode": {
    "name": "ipython",
    "version": 3
   },
   "file_extension": ".py",
   "mimetype": "text/x-python",
   "name": "python",
   "nbconvert_exporter": "python",
   "pygments_lexer": "ipython3",
   "version": "3.6.5"
  }
 },
 "nbformat": 4,
 "nbformat_minor": 2
}
