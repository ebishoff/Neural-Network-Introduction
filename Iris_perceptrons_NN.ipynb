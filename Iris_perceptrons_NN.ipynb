{
 "cells": [
  {
   "cell_type": "code",
   "execution_count": 1,
   "metadata": {},
   "outputs": [
    {
     "name": "stderr",
     "output_type": "stream",
     "text": [
      "C:\\Users\\ebish\\Anaconda3\\lib\\site-packages\\h5py\\__init__.py:36: FutureWarning: Conversion of the second argument of issubdtype from `float` to `np.floating` is deprecated. In future, it will be treated as `np.float64 == np.dtype(float).type`.\n",
      "  from ._conv import register_converters as _register_converters\n"
     ]
    }
   ],
   "source": [
    "import tensorflow as tf\n",
    "import numpy as np\n",
    "import pandas as pd\n",
    "from pandas import get_dummies\n",
    "import matplotlib.pyplot as plt\n",
    "from sklearn.model_selection import train_test_split"
   ]
  },
  {
   "cell_type": "markdown",
   "metadata": {},
   "source": [
    "<h1>Load data</h1>"
   ]
  },
  {
   "cell_type": "code",
   "execution_count": 2,
   "metadata": {},
   "outputs": [],
   "source": [
    "file_name = \"iris.data.csv\""
   ]
  },
  {
   "cell_type": "code",
   "execution_count": 3,
   "metadata": {},
   "outputs": [
    {
     "data": {
      "text/html": [
       "<div>\n",
       "<style scoped>\n",
       "    .dataframe tbody tr th:only-of-type {\n",
       "        vertical-align: middle;\n",
       "    }\n",
       "\n",
       "    .dataframe tbody tr th {\n",
       "        vertical-align: top;\n",
       "    }\n",
       "\n",
       "    .dataframe thead th {\n",
       "        text-align: right;\n",
       "    }\n",
       "</style>\n",
       "<table border=\"1\" class=\"dataframe\">\n",
       "  <thead>\n",
       "    <tr style=\"text-align: right;\">\n",
       "      <th></th>\n",
       "      <th>sepal_length</th>\n",
       "      <th>sepal_width</th>\n",
       "      <th>petal_length</th>\n",
       "      <th>petal_width</th>\n",
       "      <th>species</th>\n",
       "    </tr>\n",
       "  </thead>\n",
       "  <tbody>\n",
       "    <tr>\n",
       "      <th>0</th>\n",
       "      <td>5.1</td>\n",
       "      <td>3.5</td>\n",
       "      <td>1.4</td>\n",
       "      <td>0.2</td>\n",
       "      <td>Iris-setosa</td>\n",
       "    </tr>\n",
       "    <tr>\n",
       "      <th>1</th>\n",
       "      <td>4.9</td>\n",
       "      <td>3.0</td>\n",
       "      <td>1.4</td>\n",
       "      <td>0.2</td>\n",
       "      <td>Iris-setosa</td>\n",
       "    </tr>\n",
       "    <tr>\n",
       "      <th>2</th>\n",
       "      <td>4.7</td>\n",
       "      <td>3.2</td>\n",
       "      <td>1.3</td>\n",
       "      <td>0.2</td>\n",
       "      <td>Iris-setosa</td>\n",
       "    </tr>\n",
       "    <tr>\n",
       "      <th>3</th>\n",
       "      <td>4.6</td>\n",
       "      <td>3.1</td>\n",
       "      <td>1.5</td>\n",
       "      <td>0.2</td>\n",
       "      <td>Iris-setosa</td>\n",
       "    </tr>\n",
       "    <tr>\n",
       "      <th>4</th>\n",
       "      <td>5.0</td>\n",
       "      <td>3.6</td>\n",
       "      <td>1.4</td>\n",
       "      <td>0.2</td>\n",
       "      <td>Iris-setosa</td>\n",
       "    </tr>\n",
       "  </tbody>\n",
       "</table>\n",
       "</div>"
      ],
      "text/plain": [
       "   sepal_length  sepal_width  petal_length  petal_width      species\n",
       "0           5.1          3.5           1.4          0.2  Iris-setosa\n",
       "1           4.9          3.0           1.4          0.2  Iris-setosa\n",
       "2           4.7          3.2           1.3          0.2  Iris-setosa\n",
       "3           4.6          3.1           1.5          0.2  Iris-setosa\n",
       "4           5.0          3.6           1.4          0.2  Iris-setosa"
      ]
     },
     "execution_count": 3,
     "metadata": {},
     "output_type": "execute_result"
    }
   ],
   "source": [
    "#load the dataset into memory\n",
    "dataset = pd.read_csv(file_name,header=None,\\\n",
    "                      names=['sepal_length','sepal_width','petal_length','petal_width','species'])\n",
    "#check several examples of data\n",
    "dataset.head()"
   ]
  },
  {
   "cell_type": "markdown",
   "metadata": {},
   "source": [
    "<h1>Data preprocessing</h1>"
   ]
  },
  {
   "cell_type": "code",
   "execution_count": 4,
   "metadata": {},
   "outputs": [],
   "source": [
    "#simple function to process the data.\n",
    "\"\"\"\n",
    "input:\n",
    "    data: iris dataset\n",
    "    num_features: 2 => select only petal width and petal width.\n",
    "                  4 => select all features\n",
    "    flower: 'Iris-setosa' => labels of Iris-setosa will be 1 and others will be 0\n",
    "            'Iris-virginica' => labels of Iris-virginica will be 1 and others will be 0\n",
    "            'None' => use one-hot encoding to represent the labels\n",
    "\n",
    "return:\n",
    "    x: normalized & shuffled data\n",
    "    y: labels\n",
    "\"\"\"\n",
    "def data_preprocessing(data,num_features,flower=None):\n",
    "    if num_features==2:\n",
    "        features = data.columns[2:4]\n",
    "    else:\n",
    "        features = data.columns[0:4]\n",
    "    labels = dataset.columns[4]\n",
    "    print(features)\n",
    "    print(labels)\n",
    "    #normalize the data\n",
    "    data_norm = pd.DataFrame(data)\n",
    "    for feature in features:\n",
    "        data[feature] = (data[feature]-data[feature].mean())/data[feature].std()\n",
    "\n",
    "    #shuffle the data\n",
    "    indices = data_norm.index.tolist()\n",
    "    indices = np.array(indices)\n",
    "    np.random.shuffle(indices)\n",
    "    x = data_norm.reindex(indices)[features]\n",
    "    y = data_norm.reindex(indices)[labels]\n",
    "    if flower=='Iris-setosa':\n",
    "        for i in range(len(y)):\n",
    "            y[i]=1 if y[i]=='Iris-setosa' else 0\n",
    "        y = y.values.reshape(len(y),1)\n",
    "    elif flower=='Iris-virginica':\n",
    "        for i in range(len(y)):\n",
    "            y[i]=1 if y[i]=='Iris-virginica' else 0\n",
    "        y = y.values.reshape(len(y),1)\n",
    "    else:\n",
    "        y = get_dummies(y)\n",
    "    return x,y"
   ]
  },
  {
   "cell_type": "markdown",
   "metadata": {},
   "source": [
    "<h1>Part a:"
   ]
  },
  {
   "cell_type": "code",
   "execution_count": 5,
   "metadata": {},
   "outputs": [
    {
     "name": "stdout",
     "output_type": "stream",
     "text": [
      "Index(['petal_length', 'petal_width'], dtype='object')\n",
      "species\n"
     ]
    }
   ],
   "source": [
    "x_1,y_1 = data_preprocessing(dataset,2,flower='Iris-setosa')\n",
    "#generate traning and validation sets\n",
    "x_train_1, x_test_1, y_train_1, y_test_1 = train_test_split(x_1,y_1,test_size=0.3)"
   ]
  },
  {
   "cell_type": "markdown",
   "metadata": {},
   "source": [
    "<h2>Define hyper-parameters</h2>"
   ]
  },
  {
   "cell_type": "code",
   "execution_count": 26,
   "metadata": {},
   "outputs": [],
   "source": [
    "#define number of training iterations\n",
    "NUM_ITER = 100\n",
    "#define learning rate\n",
    "lr = 0.1"
   ]
  },
  {
   "cell_type": "markdown",
   "metadata": {},
   "source": [
    "<h2>Define Placeholder and Variables</h2>"
   ]
  },
  {
   "cell_type": "code",
   "execution_count": 27,
   "metadata": {},
   "outputs": [],
   "source": [
    "tf.reset_default_graph()\n",
    "#define the placeholder to feed the training data later\n",
    "X1 = tf.placeholder(tf.float32,shape=[None,2],name='X1')\n",
    "Y1 = tf.placeholder(tf.float32,shape=[None,1],name='Y1')\n",
    "\n",
    "#define the weights and initialize with random normal distribution\n",
    "#we need weights and biases for the hidden layer and the ouput layer\n",
    "W1=tf.Variable(tf.random_normal([2,1]),tf.float32,name='W1')\n",
    "\n",
    "#define the bias with zero initialization\n",
    "b1=tf.Variable(tf.zeros([1,1]),tf.float32,name='b1')\n"
   ]
  },
  {
   "cell_type": "markdown",
   "metadata": {},
   "source": [
    "<h2>Define update rule and accuracy</h2>"
   ]
  },
  {
   "cell_type": "code",
   "execution_count": 28,
   "metadata": {},
   "outputs": [],
   "source": [
    "#define the predicted output label, Tensorflow doesn't have step function, we use tf.round to do that\n",
    "Y1_hat =tf.round( tf.sigmoid(tf.add(tf.matmul(X1,W1),b1)))\n",
    "#the error between target and logit\n",
    "error = Y1-Y1_hat\n",
    "\n",
    "#weight and bias update rule w(t+1) = w(t) + learning_rate * error * x\n",
    "dW = tf.matmul(tf.transpose(X1),error)\n",
    "db = tf.reduce_sum(error,0)\n",
    "W_ = W1 + lr*dW\n",
    "b_ = b1 + lr*db\n",
    "\n",
    "#group two operations together\n",
    "step = tf.group(W1.assign(W_), b1.assign(b_))\n",
    "\n",
    "#compare the predicted labels with true labels\n",
    "correct_pred = tf.equal(Y1_hat,Y1)\n",
    "\n",
    "#compute the accuracy by taking average\n",
    "accuracy = tf.reduce_mean(tf.cast(correct_pred,tf.float32),name='accuracy')\n",
    "\n"
   ]
  },
  {
   "cell_type": "markdown",
   "metadata": {},
   "source": [
    "<h2>Execute training</h2>"
   ]
  },
  {
   "cell_type": "code",
   "execution_count": 29,
   "metadata": {
    "scrolled": false
   },
   "outputs": [
    {
     "name": "stdout",
     "output_type": "stream",
     "text": [
      "Epoch 0, Accuracy= 0.819\n",
      "Epoch 5, Accuracy= 1.000\n",
      "Epoch 10, Accuracy= 1.000\n",
      "Epoch 15, Accuracy= 1.000\n",
      "Epoch 20, Accuracy= 1.000\n",
      "Epoch 25, Accuracy= 1.000\n",
      "Epoch 30, Accuracy= 1.000\n",
      "Epoch 35, Accuracy= 1.000\n",
      "Epoch 40, Accuracy= 1.000\n",
      "Epoch 45, Accuracy= 1.000\n",
      "Epoch 50, Accuracy= 1.000\n",
      "Epoch 55, Accuracy= 1.000\n",
      "Epoch 60, Accuracy= 1.000\n",
      "Epoch 65, Accuracy= 1.000\n",
      "Epoch 70, Accuracy= 1.000\n",
      "Epoch 75, Accuracy= 1.000\n",
      "Epoch 80, Accuracy= 1.000\n",
      "Epoch 85, Accuracy= 1.000\n",
      "Epoch 90, Accuracy= 1.000\n",
      "Epoch 95, Accuracy= 1.000\n",
      "Testing Accuracy: 1.0\n"
     ]
    }
   ],
   "source": [
    "#initialize tensorflow variables\n",
    "init = tf.global_variables_initializer()\n",
    "accuracy_score=[]\n",
    "#cost_values=[]\n",
    "\n",
    "#start tensorflow session\n",
    "with tf.Session() as sess:\n",
    "    #run initialization\n",
    "    sess.run(init)\n",
    "    #training for number of iterations\n",
    "    for i in range(NUM_ITER):\n",
    "        #every iteration we run optimization on the training data X and labels Y\n",
    "        sess.run(step,feed_dict = {X1:x_train_1,Y1:y_train_1})\n",
    "        acc = sess.run(accuracy,feed_dict={X1:x_train_1, Y1:y_train_1})\n",
    "        accuracy_score.append(acc)\n",
    "        if i % 5 ==0:\n",
    "            print(\"Epoch \"+str(i)+\", Accuracy= {:.3f}\".format(acc))\n",
    "            #cos=sess.run(cost,feed_dict={X1:x_train_1, Y1:y_train_1})\n",
    "            #cost_values.append(cos)\n",
    "            #print(\"Epoch \"+str(i)+\", Accuracy= {:.3f}\".format(acc)+\" , Cost={:.3f}\".format(cos))\n",
    "    print(\"Testing Accuracy:\", sess.run(accuracy, feed_dict={X1:x_test_1, Y1:y_test_1}))\n",
    "\n",
    "    \n",
    "    #after training, we acquire the weight and bias\n",
    "    #np.squeeze plays a role to get rid of the redundant dimension [i.e.make (2,1) be (2,)]\n",
    "    W1 = np.squeeze(sess.run(W1))\n",
    "    b1 = np.squeeze(sess.run(b1))\n",
    "    "
   ]
  },
  {
   "cell_type": "markdown",
   "metadata": {},
   "source": [
    "<h2>Plot</h2>"
   ]
  },
  {
   "cell_type": "code",
   "execution_count": 30,
   "metadata": {},
   "outputs": [],
   "source": [
    "x=x_test_1.values"
   ]
  },
  {
   "cell_type": "code",
   "execution_count": 31,
   "metadata": {},
   "outputs": [
    {
     "data": {
      "image/png": "[encoded data removed]",
      "text/plain": [
       "<Figure size 432x288 with 1 Axes>"
      ]
     },
     "metadata": {},
     "output_type": "display_data"
    }
   ],
   "source": [
    "#plot out the decision line determined by learned weight and bias\n",
    "import matplotlib.pyplot as plt\n",
    "plot_x = np.array([np.min(x[:, 0] - 0.2), np.max(x[:, 1]+0.2)])\n",
    "plot_y = 1 / W1[1] * (-W1[0] * plot_x - b1)\n",
    "\n",
    "plt.scatter(x[:, 0], x[:, 1], c=np.squeeze(y_test_1), s=100, cmap='viridis')\n",
    "plt.plot( plot_x,plot_y, color='k', linewidth=2)\n",
    "# plt.xlim([-0.2, 1.2]); plt.ylim([-0.2, 1.25]);\n",
    "plt.show()"
   ]
  },
  {
   "cell_type": "code",
   "execution_count": 41,
   "metadata": {},
   "outputs": [
    {
     "data": {
      "text/plain": [
       "Text(0,0.5,'Accuracy Score')"
      ]
     },
     "execution_count": 41,
     "metadata": {},
     "output_type": "execute_result"
    },
    {
     "data": {
      "image/png": "[encoded data removed]",
      "text/plain": [
       "<Figure size 432x288 with 1 Axes>"
      ]
     },
     "metadata": {},
     "output_type": "display_data"
    }
   ],
   "source": [
    "plt.plot(accuracy_score,'-o',color='m')\n",
    "plt.xlabel('Epoch',size=14)\n",
    "plt.ylabel('Accuracy Score',size=14)"
   ]
  },
  {
   "cell_type": "markdown",
   "metadata": {},
   "source": [
    "# Which accuracy are you getting? What does it tell you about setosa w.r.t other two species?"
   ]
  },
  {
   "cell_type": "markdown",
   "metadata": {},
   "source": [
    "I am getting 100% accuracy on my test dataset. This tells me that setosa is linearly separable w.r.t the other two species. This means that our input variables are good at helping us distinguish between setosa versus other two species. \n",
    "\n",
    "Some other interesting finds is that we get to 100% accuracy during training is usually less than 10 epochs. This can be seen in our graph above. "
   ]
  },
  {
   "cell_type": "markdown",
   "metadata": {},
   "source": [
    "<h1>Part b:</h1>"
   ]
  },
  {
   "cell_type": "code",
   "execution_count": 42,
   "metadata": {},
   "outputs": [
    {
     "name": "stdout",
     "output_type": "stream",
     "text": [
      "Index(['petal_length', 'petal_width'], dtype='object')\n",
      "species\n"
     ]
    }
   ],
   "source": [
    "x_2,y_2 = data_preprocessing(dataset,2,flower='Iris-virginica')\n",
    "#generate traning and validation sets\n",
    "x_train_2, x_test_2, y_train_2, y_test_2 = train_test_split(x_2,y_2,test_size=0.3)"
   ]
  },
  {
   "cell_type": "markdown",
   "metadata": {},
   "source": [
    "<h2>Define hyper-parameter</h2>"
   ]
  },
  {
   "cell_type": "code",
   "execution_count": 77,
   "metadata": {},
   "outputs": [],
   "source": [
    "#define number of training iterations\n",
    "NUM_ITER = 100\n",
    "#define learning rate\n",
    "lr = 0.1"
   ]
  },
  {
   "cell_type": "markdown",
   "metadata": {},
   "source": [
    "<h2>Define Placeholder and Variables</h2>"
   ]
  },
  {
   "cell_type": "code",
   "execution_count": 78,
   "metadata": {},
   "outputs": [],
   "source": [
    "tf.reset_default_graph()\n",
    "#define the placeholder to feed the training data later\n",
    "X2 = tf.placeholder(tf.float32,shape=[None,2],name='X2')\n",
    "Y2 = tf.placeholder(tf.float32,shape=[None,1],name='Y2')\n",
    "\n",
    "#define the weights and initialize with random normal distribution\n",
    "#we need weights and biases for the hidden layer and the ouput layer\n",
    "W2=tf.Variable(tf.random_normal([2,1]),tf.float32,name='W2')\n",
    "\n",
    "#define the bias with zero initialization\n",
    "b2=tf.Variable(tf.zeros([1,1]),tf.float32,name='b2')\n"
   ]
  },
  {
   "cell_type": "markdown",
   "metadata": {},
   "source": [
    "<h2>Define update rule and accuracy</h2>"
   ]
  },
  {
   "cell_type": "code",
   "execution_count": 79,
   "metadata": {},
   "outputs": [],
   "source": [
    "#define the predicted output label, Tensorflow doesn't have step function, we use tf.round to do that\n",
    "Y2_hat = tf.round(tf.sigmoid(tf.add(tf.matmul(X2,W2),b2)))\n",
    "#the error between target and logit\n",
    "error = Y2-Y2_hat\n",
    "\n",
    "#weight and bias update rule w(t+1) = w(t) + learning_rate * error * x\n",
    "dW = tf.matmul(tf.transpose(X2),error)\n",
    "db = tf.reduce_sum(error,0)\n",
    "W_ = W2 + lr*dW\n",
    "b_ = b2 + lr*db\n",
    "\n",
    "#group two operations together\n",
    "step = tf.group(W2.assign(W_), b2.assign(b_))\n",
    "\n",
    "#compare the predicted labels with true labels\n",
    "correct_pred = tf.equal(Y2_hat,Y2)\n",
    "\n",
    "#compute the accuracy by taking average\n",
    "accuracy = tf.reduce_mean(tf.cast(correct_pred,tf.float32),name='accuracy')\n"
   ]
  },
  {
   "cell_type": "markdown",
   "metadata": {},
   "source": [
    "<h2>Execute training</h2>"
   ]
  },
  {
   "cell_type": "code",
   "execution_count": 80,
   "metadata": {},
   "outputs": [
    {
     "name": "stdout",
     "output_type": "stream",
     "text": [
      "Epoch 0, Accuracy= 0.686\n",
      "Epoch 5, Accuracy= 0.962\n",
      "Epoch 10, Accuracy= 0.962\n",
      "Epoch 15, Accuracy= 0.962\n",
      "Epoch 20, Accuracy= 0.962\n",
      "Epoch 25, Accuracy= 0.962\n",
      "Epoch 30, Accuracy= 0.962\n",
      "Epoch 35, Accuracy= 0.962\n",
      "Epoch 40, Accuracy= 0.962\n",
      "Epoch 45, Accuracy= 0.962\n",
      "Epoch 50, Accuracy= 0.962\n",
      "Epoch 55, Accuracy= 0.962\n",
      "Epoch 60, Accuracy= 0.962\n",
      "Epoch 65, Accuracy= 0.962\n",
      "Epoch 70, Accuracy= 0.962\n",
      "Epoch 75, Accuracy= 0.962\n",
      "Epoch 80, Accuracy= 0.962\n",
      "Epoch 85, Accuracy= 0.762\n",
      "Epoch 90, Accuracy= 0.962\n",
      "Epoch 95, Accuracy= 0.971\n",
      "Testing Accuracy: 0.95555556\n"
     ]
    }
   ],
   "source": [
    "#initialize tensorflow variables\n",
    "init = tf.global_variables_initializer()\n",
    "accuracy_score2=[]\n",
    "\n",
    "#start tensorflow session\n",
    "with tf.Session() as sess:\n",
    "    #run initialization\n",
    "    sess.run(init)\n",
    "    #training for number of iterations\n",
    "    for i in range(NUM_ITER):\n",
    "        #every iteration we run optimization on the training data X and labels Y\n",
    "        sess.run(step,feed_dict = {X2:x_train_2,Y2:y_train_2})\n",
    "        acc = sess.run(accuracy,feed_dict={X2:x_train_2, Y2:y_train_2})\n",
    "        accuracy_score2.append(acc)\n",
    "        if i % 5 ==0:\n",
    "            print(\"Epoch \"+str(i)+\", Accuracy= {:.3f}\".format(acc))\n",
    "#             cos=sess.run(cost,feed_dict={X2:x_train_2, Y2:y_train_2})\n",
    "#             print(\"Epoch \"+str(i)+\", Accuracy= {:.3f}\".format(acc)+\" Cost={:.3f}\".format(cos))\n",
    "    print(\"Testing Accuracy:\", sess.run(accuracy, feed_dict={X2:x_test_2, Y2:y_test_2}))\n",
    "    \n",
    "    #after training, we acquire the weight and bias\n",
    "    #np.squeeze plays a role to get rid of the redundant dimension [i.e.make (2,1) be (2,)]\n",
    "    W2 = np.squeeze(sess.run(W2))\n",
    "    b2 = np.squeeze(sess.run(b2))\n",
    "    "
   ]
  },
  {
   "cell_type": "markdown",
   "metadata": {},
   "source": [
    "<h2>Plot</h2>"
   ]
  },
  {
   "cell_type": "code",
   "execution_count": 81,
   "metadata": {},
   "outputs": [
    {
     "data": {
      "image/png": "[encoded data removed]",
      "text/plain": [
       "<Figure size 432x288 with 1 Axes>"
      ]
     },
     "metadata": {},
     "output_type": "display_data"
    }
   ],
   "source": [
    "x2=x_test_2.values\n",
    "#plot out the decision line determined by learned weight and bias\n",
    "import matplotlib.pyplot as plt\n",
    "plot_x2 = np.array([np.min(x2[:, 0] - 0.2), np.max(x2[:, 1]+0.2)])\n",
    "plot_y2 = 1 / W2[1] * (-W2[0] * plot_x2 - b2)\n",
    "\n",
    "plt.scatter(x2[:, 0], x2[:, 1], c=np.squeeze(y_test_2), s=100, cmap='viridis')\n",
    "plt.plot( plot_x2,plot_y2, color='k', linewidth=2)\n",
    "# plt.xlim([-0.2, 1.2]); plt.ylim([-0.2, 1.25]);\n",
    "plt.show()"
   ]
  },
  {
   "cell_type": "code",
   "execution_count": 82,
   "metadata": {},
   "outputs": [
    {
     "data": {
      "text/plain": [
       "Text(0,0.5,'Accuracy Score')"
      ]
     },
     "execution_count": 82,
     "metadata": {},
     "output_type": "execute_result"
    },
    {
     "data": {
      "image/png": "[encoded data removed]",
      "text/plain": [
       "<Figure size 432x288 with 1 Axes>"
      ]
     },
     "metadata": {},
     "output_type": "display_data"
    }
   ],
   "source": [
    "plt.plot(accuracy_score2,'-o',color='m')\n",
    "plt.xlabel('Epoch',size=14)\n",
    "plt.ylabel('Accuracy Score',size=14)"
   ]
  },
  {
   "cell_type": "markdown",
   "metadata": {},
   "source": [
    "# Which accuracy are you getting now? What does it tell you about the classification? "
   ]
  },
  {
   "cell_type": "markdown",
   "metadata": {},
   "source": [
    "Depending on the time I run the code I get an accuracy from 95%-97% on the testing dataset. This to me implies that the dataset is not linearly separable, but then when I plot the decision boundary in the figure above it looks like it is linearly separable. So, I tried more iterations just to see if that is what it needed, but it doesn't get us 100% accuracy in the test dataset. It gives us about 95%-97%. So either we don't have linearly separable groups or we are overfitting on the training set and thus our model isn't representative of the overall population and thus doesn't get us 100% accuracy on the test dataset. "
   ]
  },
  {
   "cell_type": "markdown",
   "metadata": {},
   "source": [
    "<h1>Part c:</h1>"
   ]
  },
  {
   "cell_type": "code",
   "execution_count": 83,
   "metadata": {},
   "outputs": [
    {
     "name": "stdout",
     "output_type": "stream",
     "text": [
      "Index(['sepal_length', 'sepal_width', 'petal_length', 'petal_width'], dtype='object')\n",
      "species\n"
     ]
    }
   ],
   "source": [
    "x_3,y_3 = data_preprocessing(dataset,4)\n",
    "#generate traning and validation sets\n",
    "x_train_3, x_test_3, y_train_3, y_test_3 = train_test_split(x_3,y_3,test_size=0.3)"
   ]
  },
  {
   "cell_type": "markdown",
   "metadata": {},
   "source": [
    "<h2>Define hyper-parameters</h2>"
   ]
  },
  {
   "cell_type": "code",
   "execution_count": 84,
   "metadata": {},
   "outputs": [],
   "source": [
    "#define number of training iterations\n",
    "NUM_ITER = 100\n",
    "#define learning rate\n",
    "lr = .1\n",
    "n_hidden_1=256\n",
    "n_hidden_2=128\n",
    "num_input=4\n",
    "num_classes=3"
   ]
  },
  {
   "cell_type": "markdown",
   "metadata": {},
   "source": [
    "<h2>Define placehoder and variables</h2>"
   ]
  },
  {
   "cell_type": "code",
   "execution_count": 85,
   "metadata": {},
   "outputs": [],
   "source": [
    "tf.reset_default_graph()\n",
    "\n",
    "#tf graph input\n",
    "X=tf.placeholder(tf.float32,[None,num_input],name='X')\n",
    "Y=tf.placeholder(tf.float32,[None, num_classes],name='Y')\n",
    "\n",
    "#Lyaers weight and bias\n",
    "weights = {\n",
    "    'W1':tf.Variable(tf.random_normal([num_input,n_hidden_1]),name='W1'),\n",
    "    'W2':tf.Variable(tf.random_normal([n_hidden_1,n_hidden_2]),name='W2'),\n",
    "    'Wout':tf.Variable(tf.random_normal([n_hidden_2,num_classes]),name='Wout')\n",
    "}\n",
    "\n",
    "biases={\n",
    "    'b1':tf.Variable(tf.zeros(shape=[n_hidden_1]),name='b1'),\n",
    "    'b2':tf.Variable(tf.zeros(shape=[n_hidden_2]),name='b2'),\n",
    "    'bout':tf.Variable(tf.zeros(shape=[num_classes]),name='bout')\n",
    "}"
   ]
  },
  {
   "cell_type": "markdown",
   "metadata": {},
   "source": [
    "<h2>Define the neural network</h2>"
   ]
  },
  {
   "cell_type": "code",
   "execution_count": 86,
   "metadata": {},
   "outputs": [],
   "source": [
    "def neural_net(x):\n",
    "    layer_1_out=tf.nn.relu(tf.add(tf.matmul(x,weights['W1']),biases['b1']))\n",
    "    layer_2_out=tf.nn.relu(tf.add(tf.matmul(layer_1_out,weights['W2']),biases['b2']))\n",
    "    out=tf.add(tf.matmul(layer_2_out,weights['Wout']),biases['bout'])\n",
    "    return out"
   ]
  },
  {
   "cell_type": "markdown",
   "metadata": {},
   "source": [
    "<h2>Define cost function and accuracy</h2>"
   ]
  },
  {
   "cell_type": "code",
   "execution_count": 87,
   "metadata": {},
   "outputs": [],
   "source": [
    "#predicted labels\n",
    "logits=neural_net(X)\n",
    "\n",
    "#define loss\n",
    "loss=tf.reduce_mean(tf.nn.softmax_cross_entropy_with_logits_v2(logits=logits,labels=Y),name='loss')\n",
    "#define optimizer\n",
    "optimizer=tf.train.GradientDescentOptimizer(learning_rate=lr)\n",
    "train_op=optimizer.minimize(loss)\n",
    "\n",
    "#compare the predicted labels with true labels\n",
    "correct_pred = tf.equal(tf.argmax(logits,1),tf.argmax(Y,1))\n",
    "\n",
    "#compute the accuracy by taking average\n",
    "accuracy = tf.reduce_mean(tf.cast(correct_pred,tf.float32),name='accuracy')\n"
   ]
  },
  {
   "cell_type": "markdown",
   "metadata": {},
   "source": [
    "<h2>Execute training</h2>"
   ]
  },
  {
   "cell_type": "code",
   "execution_count": 92,
   "metadata": {
    "scrolled": false
   },
   "outputs": [
    {
     "name": "stdout",
     "output_type": "stream",
     "text": [
      "Epoch 0, Accuracy= 0.705 Cost=274.124\n",
      "Epoch 5, Accuracy= 0.943 Cost=1.754\n",
      "Epoch 10, Accuracy= 0.819 Cost=17.251\n",
      "Epoch 15, Accuracy= 1.000 Cost=0.001\n",
      "Epoch 20, Accuracy= 1.000 Cost=0.000\n",
      "Epoch 25, Accuracy= 1.000 Cost=0.000\n",
      "Epoch 30, Accuracy= 1.000 Cost=0.000\n",
      "Epoch 35, Accuracy= 1.000 Cost=0.000\n",
      "Epoch 40, Accuracy= 1.000 Cost=0.000\n",
      "Epoch 45, Accuracy= 1.000 Cost=0.000\n",
      "Epoch 50, Accuracy= 1.000 Cost=0.000\n",
      "Epoch 55, Accuracy= 1.000 Cost=0.000\n",
      "Epoch 60, Accuracy= 1.000 Cost=0.000\n",
      "Epoch 65, Accuracy= 1.000 Cost=0.000\n",
      "Epoch 70, Accuracy= 1.000 Cost=0.000\n",
      "Epoch 75, Accuracy= 1.000 Cost=0.000\n",
      "Epoch 80, Accuracy= 1.000 Cost=0.000\n",
      "Epoch 85, Accuracy= 1.000 Cost=0.000\n",
      "Epoch 90, Accuracy= 1.000 Cost=0.000\n",
      "Epoch 95, Accuracy= 1.000 Cost=0.000\n",
      "Training finished!\n",
      "Testing Accuracy: 0.93333334\n"
     ]
    }
   ],
   "source": [
    "#Initialize the variables\n",
    "init = tf.global_variables_initializer()\n",
    "cost_values=[]\n",
    "accuracy_scores3=[]\n",
    "\n",
    "with tf.Session() as sess:\n",
    "    sess.run(init)\n",
    "    \n",
    "    for i in range(NUM_ITER):\n",
    "        #run optimization\n",
    "        sess.run(train_op, feed_dict={X:x_train_3, Y:y_train_3})\n",
    "        acc = sess.run(accuracy,feed_dict={X:x_train_3, Y:y_train_3})\n",
    "        cos=sess.run(loss,feed_dict={X:x_train_3, Y:y_train_3})\n",
    "        cost_values.append(cos)\n",
    "        accuracy_scores3.append(acc)\n",
    "        if i % 5 ==0:   \n",
    "            print(\"Epoch \"+str(i)+\", Accuracy= {:.3f}\".format(acc)+\" Cost={:.3f}\".format(cos))\n",
    "        \n",
    "    \n",
    "    print(\"Training finished!\")\n",
    "    \n",
    "    print(\"Testing Accuracy:\", sess.run(accuracy, feed_dict={X:x_test_3, Y:y_test_3}))"
   ]
  },
  {
   "cell_type": "markdown",
   "metadata": {},
   "source": [
    "<h2>Plot</h2>"
   ]
  },
  {
   "cell_type": "code",
   "execution_count": 93,
   "metadata": {},
   "outputs": [
    {
     "data": {
      "text/plain": [
       "Text(0,0.5,'Accuracy Score')"
      ]
     },
     "execution_count": 93,
     "metadata": {},
     "output_type": "execute_result"
    },
    {
     "data": {
      "image/png": "[encoded data removed]",
      "text/plain": [
       "<Figure size 432x288 with 1 Axes>"
      ]
     },
     "metadata": {},
     "output_type": "display_data"
    }
   ],
   "source": [
    "plt.plot(accuracy_scores3,'-o',color='m')\n",
    "plt.xlabel('Epoch',size=14)\n",
    "plt.ylabel('Accuracy Score',size=14)"
   ]
  },
  {
   "cell_type": "code",
   "execution_count": 95,
   "metadata": {},
   "outputs": [
    {
     "data": {
      "text/plain": [
       "Text(0,0.5,'Cost')"
      ]
     },
     "execution_count": 95,
     "metadata": {},
     "output_type": "execute_result"
    },
    {
     "data": {
      "image/png": "[encoded data removed]",
      "text/plain": [
       "<Figure size 432x288 with 1 Axes>"
      ]
     },
     "metadata": {},
     "output_type": "display_data"
    }
   ],
   "source": [
    "plt.plot(cost_values,'-o',color='g')\n",
    "plt.xlabel('Epoch',size=14)\n",
    "plt.ylabel('Cost',size=14)"
   ]
  },
  {
   "cell_type": "code",
   "execution_count": null,
   "metadata": {},
   "outputs": [],
   "source": []
  }
 ],
 "metadata": {
  "kernelspec": {
   "display_name": "Python 3",
   "language": "python",
   "name": "python3"
  },
  "language_info": {
   "codemirror_mode": {
    "name": "ipython",
    "version": 3
   },
   "file_extension": ".py",
   "mimetype": "text/x-python",
   "name": "python",
   "nbconvert_exporter": "python",
   "pygments_lexer": "ipython3",
   "version": "3.6.5"
  }
 },
 "nbformat": 4,
 "nbformat_minor": 2
}
