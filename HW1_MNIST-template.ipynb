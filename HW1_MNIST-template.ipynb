{
 "cells": [
  {
   "cell_type": "code",
   "execution_count": 1,
   "metadata": {},
   "outputs": [],
   "source": [
    "import tensorflow as tf\n",
    "from tensorflow.keras.callbacks import TensorBoard\n",
    "old_v = tf.logging.get_verbosity()\n",
    "tf.logging.set_verbosity(tf.logging.ERROR)\n",
    "import time\n"
   ]
  },
  {
   "cell_type": "code",
   "execution_count": 42,
   "metadata": {},
   "outputs": [],
   "source": [
    "testing_accuracy=[]"
   ]
  },
  {
   "cell_type": "markdown",
   "metadata": {},
   "source": [
    "<h2>Extract MNIST data</h2>\n",
    "<p style=\"font-size:20px\">You can change the option of one_hot encoding."
   ]
  },
  {
   "cell_type": "code",
   "execution_count": 2,
   "metadata": {},
   "outputs": [
    {
     "name": "stdout",
     "output_type": "stream",
     "text": [
      "Extracting MNIST_data/train-images-idx3-ubyte.gz\n",
      "Extracting MNIST_data/train-labels-idx1-ubyte.gz\n",
      "Extracting MNIST_data/t10k-images-idx3-ubyte.gz\n",
      "Extracting MNIST_data/t10k-labels-idx1-ubyte.gz\n"
     ]
    }
   ],
   "source": [
    "from tensorflow.examples.tutorials.mnist import input_data\n",
    "#get mnist data, with one_hot encoding\n",
    "mnist = input_data.read_data_sets(\"MNIST_data/\",one_hot=True)\n",
    "#suppress warnings\n",
    "tf.logging.set_verbosity(old_v)"
   ]
  },
  {
   "cell_type": "code",
   "execution_count": 3,
   "metadata": {},
   "outputs": [],
   "source": [
    "num_train = mnist.train.num_examples #55,000\n",
    "num_validation = mnist.validation.num_examples #5000\n",
    "num_test = mnist.test.num_examples #10,000"
   ]
  },
  {
   "cell_type": "markdown",
   "metadata": {},
   "source": [
    "<h2>Define hyperparameters</h2>"
   ]
  },
  {
   "cell_type": "code",
   "execution_count": 502,
   "metadata": {},
   "outputs": [],
   "source": [
    "#learning rate\n",
    "lr = 0.01\n",
    "#number of traning steps\n",
    "num_steps =1000\n",
    "#number of batch_size\n",
    "batch_size = 256\n",
    "\n",
    "#network parameters\n",
    "hidden_layers=2\n",
    "n_hidden_1 = 512\n",
    "n_hidden_2 = 512\n",
    "#n_hidden_3=512\n",
    "num_input = 784\n",
    "num_classes = 10"
   ]
  },
  {
   "cell_type": "code",
   "execution_count": 503,
   "metadata": {},
   "outputs": [],
   "source": [
    "from datetime import datetime\n",
    "now = datetime.utcnow().strftime(\"%Y%m%d%H%M%S\")\n",
    "root_logdir = \"MNIST_logs\"\n",
    "logdir = \"{}/run-{}-{}-lr-{}-layers-{}-epochs-{}-batchsize/\".format(root_logdir,now,lr, hidden_layers, num_steps,batch_size)\n"
   ]
  },
  {
   "cell_type": "markdown",
   "metadata": {},
   "source": [
    "<h2>Define placeholder and Variables</h2>"
   ]
  },
  {
   "cell_type": "code",
   "execution_count": 504,
   "metadata": {},
   "outputs": [],
   "source": [
    "tf.reset_default_graph()"
   ]
  },
  {
   "cell_type": "code",
   "execution_count": 505,
   "metadata": {},
   "outputs": [],
   "source": [
    "#tf graph input\n",
    "X = tf.placeholder(tf.float32,[None,num_input],name='X')\n",
    "Y = tf.placeholder(tf.int32,[None,num_classes],name='Y')\n",
    "\n",
    "#Layers weight & bias\n",
    "weights = {\n",
    "    'W1': tf.Variable(tf.random_normal([num_input, n_hidden_1]),name='W1'),\n",
    "    'W2': tf.Variable(tf.random_normal([n_hidden_1, n_hidden_2]),name='W2'),\n",
    "   # 'W3': tf.Variable(tf.random_normal([n_hidden_2, n_hidden_3]),name='W3'),\n",
    "    #'W4': tf.Variable(tf.random_normal([n_hidden_3, n_hidden_4]),name='W4'),\n",
    "\n",
    "    'Wout': tf.Variable(tf.random_normal([n_hidden_2, num_classes]),name='Wout')\n",
    "}\n",
    "\n",
    "biases = {\n",
    "    'b1': tf.Variable(tf.zeros(shape=[n_hidden_1]),name='b1'),\n",
    "    'b2': tf.Variable(tf.zeros(shape=[n_hidden_2]),name='b2'),\n",
    "    #'b3': tf.Variable(tf.zeros(shape=[n_hidden_3]),name='b3'),\n",
    "#'b4': tf.Variable(tf.zeros(shape=[n_hidden_4]),name='b4'),\n",
    "\n",
    "    'bout': tf.Variable(tf.zeros(shape=[num_classes]),name='bout')\n",
    "}\n"
   ]
  },
  {
   "cell_type": "markdown",
   "metadata": {},
   "source": [
    "<h2>Define neural network</h2>"
   ]
  },
  {
   "cell_type": "code",
   "execution_count": 506,
   "metadata": {},
   "outputs": [],
   "source": [
    "#define a neural net model\n",
    "def neural_net(x):\n",
    "    layer_1_out = tf.nn.relu(tf.add(tf.matmul(x,weights['W1']),biases['b1']))\n",
    "    layer_2_out = tf.nn.relu(tf.add(tf.matmul(layer_1_out,weights['W2']),biases['b2']))\n",
    "    #layer_3_out = tf.nn.relu(tf.add(tf.matmul(layer_2_out,weights['W3']),biases['b3']))\n",
    "    #layer_4_out = tf.nn.relu(tf.add(tf.matmul(layer_3_out,weights['W4']),biases['b4']))\n",
    "\n",
    "    out = tf.add(tf.matmul(layer_2_out,weights['Wout']),biases['bout'])\n",
    "    return out"
   ]
  },
  {
   "cell_type": "markdown",
   "metadata": {},
   "source": [
    "<h2>Define cost function and accuracy</h2>"
   ]
  },
  {
   "cell_type": "code",
   "execution_count": 507,
   "metadata": {},
   "outputs": [],
   "source": [
    "#predicted labels\n",
    "logits = neural_net(X)\n",
    "\n",
    "#define loss\n",
    "loss = tf.reduce_mean(tf.nn.softmax_cross_entropy_with_logits_v2(logits=logits,labels=Y),name='loss')\n",
    "#define optimizer\n",
    "optimizer = tf.train.AdamOptimizer(learning_rate=lr)\n",
    "train_op = optimizer.minimize(loss)\n",
    "\n",
    "#compare the predicted labels with true labels\n",
    "correct_pred = tf.equal(tf.argmax(logits,1),tf.argmax(Y,1))\n",
    "\n",
    "#compute the accuracy by taking average\n",
    "accuracy = tf.reduce_mean(tf.cast(correct_pred,tf.float32),name='accuracy')\n",
    "\n",
    "#Initialize the variables\n",
    "init = tf.global_variables_initializer()\n",
    "\n",
    "\n",
    "loss_summary=tf.summary.scalar('loss',loss)\n",
    "accuracy_summary=tf.summary.scalar('accuracy',accuracy)\n",
    "file_writer=tf.summary.FileWriter(logdir,tf.get_default_graph())"
   ]
  },
  {
   "cell_type": "markdown",
   "metadata": {},
   "source": [
    "<h2>Execute training</h2>"
   ]
  },
  {
   "cell_type": "code",
   "execution_count": 508,
   "metadata": {},
   "outputs": [
    {
     "name": "stdout",
     "output_type": "stream",
     "text": [
      "step 0, Accuracy= 0.219\n",
      "step 100, Accuracy= 0.961\n",
      "step 200, Accuracy= 0.938\n",
      "step 300, Accuracy= 0.953\n",
      "step 400, Accuracy= 0.965\n",
      "step 500, Accuracy= 0.961\n",
      "step 600, Accuracy= 0.988\n",
      "step 700, Accuracy= 0.973\n",
      "step 800, Accuracy= 0.988\n",
      "step 900, Accuracy= 0.980\n",
      "Training finished!\n",
      "Testing Accuracy: 0.9602\n"
     ]
    }
   ],
   "source": [
    "\n",
    "with tf.Session() as sess:\n",
    "    sess.run(init)\n",
    "    for i in range(num_steps):\n",
    "        #fetch batch\n",
    "        batch_x, batch_y = mnist.train.next_batch(batch_size)\n",
    "        #run optimization\n",
    "        sess.run(train_op, feed_dict={X:batch_x, Y:batch_y})\n",
    "        if i % 100 ==0:\n",
    "            summary = sess.run(accuracy_summary,feed_dict={X:batch_x,Y:batch_y})\n",
    "            file_writer.add_summary(summary,i)\n",
    "            summary2 = sess.run(loss_summary,feed_dict={X:batch_x,Y:batch_y})\n",
    "            file_writer.add_summary(summary2,i)\n",
    "            acc = sess.run(accuracy,feed_dict={X:batch_x, Y:batch_y})\n",
    "            print(\"step \"+str(i)+\", Accuracy= {:.3f}\".format(acc))\n",
    "    \n",
    "    print(\"Training finished!\")\n",
    "    tes=sess.run(accuracy, feed_dict={X:mnist.test.images, Y:mnist.test.labels})\n",
    "    print(\"Testing Accuracy:\",tes)\n",
    "    testing_accuracy.append(tes)\n",
    "file_writer.close()"
   ]
  },
  {
   "cell_type": "markdown",
   "metadata": {},
   "source": [
    "<h2>Your results</h2>"
   ]
  },
  {
   "cell_type": "code",
   "execution_count": 511,
   "metadata": {},
   "outputs": [
    {
     "data": {
      "text/plain": [
       "[<matplotlib.lines.Line2D at 0x295171325c0>]"
      ]
     },
     "execution_count": 511,
     "metadata": {},
     "output_type": "execute_result"
    }
   ],
   "source": [
    "import matplotlib.pyplot as plt\n"
   ]
  },
  {
   "cell_type": "code",
   "execution_count": 515,
   "metadata": {},
   "outputs": [],
   "source": [
    "import numpy as np\n",
    "test_array=np.array(testing_accuracy,dtype=float)\n"
   ]
  },
  {
   "cell_type": "code",
   "execution_count": 525,
   "metadata": {},
   "outputs": [
    {
     "data": {
      "text/plain": [
       "Text(0.5,1,'Model Accuracy on Test Dataset')"
      ]
     },
     "execution_count": 525,
     "metadata": {},
     "output_type": "execute_result"
    },
    {
     "data": {
      "image/png": "[encoded data removed]",
      "text/plain": [
       "<Figure size 432x288 with 1 Axes>"
      ]
     },
     "metadata": {},
     "output_type": "display_data"
    }
   ],
   "source": [
    "plt.plot(test_array, '-o', color='m')\n",
    "plt.xlabel(\"Model\")\n",
    "plt.ylabel(\"Accuracy on Test Dataset\")\n",
    "plt.title('Model Accuracy on Test Dataset')"
   ]
  },
  {
   "cell_type": "markdown",
   "metadata": {},
   "source": [
    "I included a plot on the different accuracies on the test dataset for all 69 models that I tried above. "
   ]
  },
  {
   "cell_type": "code",
   "execution_count": 522,
   "metadata": {},
   "outputs": [],
   "source": [
    "import pandas as pd\n",
    "mydata=pd.read_csv(\"tableNN.csv\", sep=\",\",header=0)"
   ]
  },
  {
   "cell_type": "code",
   "execution_count": 523,
   "metadata": {},
   "outputs": [
    {
     "data": {
      "text/html": [
       "<div>\n",
       "<style scoped>\n",
       "    .dataframe tbody tr th:only-of-type {\n",
       "        vertical-align: middle;\n",
       "    }\n",
       "\n",
       "    .dataframe tbody tr th {\n",
       "        vertical-align: top;\n",
       "    }\n",
       "\n",
       "    .dataframe thead th {\n",
       "        text-align: right;\n",
       "    }\n",
       "</style>\n",
       "<table border=\"1\" class=\"dataframe\">\n",
       "  <thead>\n",
       "    <tr style=\"text-align: right;\">\n",
       "      <th></th>\n",
       "      <th>learning Rate</th>\n",
       "      <th>Num_steps</th>\n",
       "      <th>Batch Size</th>\n",
       "      <th>Hidden Layers</th>\n",
       "      <th>Hidden Layer 1 Neurons</th>\n",
       "      <th>Hidden Layer 2 Neurons</th>\n",
       "      <th>Hidden Layer 3 Neurons</th>\n",
       "      <th>Activation Function</th>\n",
       "      <th>Training Accuracy</th>\n",
       "      <th>Test Accuracy</th>\n",
       "    </tr>\n",
       "  </thead>\n",
       "  <tbody>\n",
       "    <tr>\n",
       "      <th>0</th>\n",
       "      <td>0.100</td>\n",
       "      <td>500</td>\n",
       "      <td>128</td>\n",
       "      <td>2</td>\n",
       "      <td>300</td>\n",
       "      <td>200</td>\n",
       "      <td>0</td>\n",
       "      <td>Sigmoid</td>\n",
       "      <td>79.70%</td>\n",
       "      <td>74.47%</td>\n",
       "    </tr>\n",
       "    <tr>\n",
       "      <th>1</th>\n",
       "      <td>0.100</td>\n",
       "      <td>5000</td>\n",
       "      <td>128</td>\n",
       "      <td>2</td>\n",
       "      <td>300</td>\n",
       "      <td>200</td>\n",
       "      <td>0</td>\n",
       "      <td>Sigmoid</td>\n",
       "      <td>91.40%</td>\n",
       "      <td>88.84%</td>\n",
       "    </tr>\n",
       "    <tr>\n",
       "      <th>2</th>\n",
       "      <td>0.100</td>\n",
       "      <td>1000</td>\n",
       "      <td>128</td>\n",
       "      <td>2</td>\n",
       "      <td>300</td>\n",
       "      <td>300</td>\n",
       "      <td>0</td>\n",
       "      <td>Sigmoid</td>\n",
       "      <td>80.50%</td>\n",
       "      <td>81.44%</td>\n",
       "    </tr>\n",
       "    <tr>\n",
       "      <th>3</th>\n",
       "      <td>0.100</td>\n",
       "      <td>2000</td>\n",
       "      <td>128</td>\n",
       "      <td>2</td>\n",
       "      <td>300</td>\n",
       "      <td>300</td>\n",
       "      <td>0</td>\n",
       "      <td>Sigmoid</td>\n",
       "      <td>89.80%</td>\n",
       "      <td>85.70%</td>\n",
       "    </tr>\n",
       "    <tr>\n",
       "      <th>4</th>\n",
       "      <td>0.100</td>\n",
       "      <td>2000</td>\n",
       "      <td>128</td>\n",
       "      <td>2</td>\n",
       "      <td>400</td>\n",
       "      <td>400</td>\n",
       "      <td>0</td>\n",
       "      <td>Sigmoid</td>\n",
       "      <td>93.00%</td>\n",
       "      <td>86.07%</td>\n",
       "    </tr>\n",
       "    <tr>\n",
       "      <th>5</th>\n",
       "      <td>0.100</td>\n",
       "      <td>2000</td>\n",
       "      <td>128</td>\n",
       "      <td>2</td>\n",
       "      <td>500</td>\n",
       "      <td>500</td>\n",
       "      <td>0</td>\n",
       "      <td>Sigmoid</td>\n",
       "      <td>93.00%</td>\n",
       "      <td>86.97%</td>\n",
       "    </tr>\n",
       "    <tr>\n",
       "      <th>6</th>\n",
       "      <td>0.100</td>\n",
       "      <td>2000</td>\n",
       "      <td>128</td>\n",
       "      <td>2</td>\n",
       "      <td>1000</td>\n",
       "      <td>1000</td>\n",
       "      <td>0</td>\n",
       "      <td>Sigmoid</td>\n",
       "      <td>94.50%</td>\n",
       "      <td>87.72%</td>\n",
       "    </tr>\n",
       "    <tr>\n",
       "      <th>7</th>\n",
       "      <td>0.100</td>\n",
       "      <td>2000</td>\n",
       "      <td>128</td>\n",
       "      <td>2</td>\n",
       "      <td>400</td>\n",
       "      <td>100</td>\n",
       "      <td>0</td>\n",
       "      <td>Sigmoid</td>\n",
       "      <td>82.00%</td>\n",
       "      <td>82.84%</td>\n",
       "    </tr>\n",
       "    <tr>\n",
       "      <th>8</th>\n",
       "      <td>0.100</td>\n",
       "      <td>2000</td>\n",
       "      <td>128</td>\n",
       "      <td>2</td>\n",
       "      <td>400</td>\n",
       "      <td>400</td>\n",
       "      <td>0</td>\n",
       "      <td>RELU</td>\n",
       "      <td>8.60%</td>\n",
       "      <td>9.80%</td>\n",
       "    </tr>\n",
       "    <tr>\n",
       "      <th>9</th>\n",
       "      <td>0.010</td>\n",
       "      <td>2000</td>\n",
       "      <td>128</td>\n",
       "      <td>2</td>\n",
       "      <td>400</td>\n",
       "      <td>400</td>\n",
       "      <td>0</td>\n",
       "      <td>RELU</td>\n",
       "      <td>98.40%</td>\n",
       "      <td>93.08%</td>\n",
       "    </tr>\n",
       "    <tr>\n",
       "      <th>10</th>\n",
       "      <td>0.001</td>\n",
       "      <td>2000</td>\n",
       "      <td>128</td>\n",
       "      <td>2</td>\n",
       "      <td>400</td>\n",
       "      <td>400</td>\n",
       "      <td>0</td>\n",
       "      <td>RELU</td>\n",
       "      <td>93.00%</td>\n",
       "      <td>89.50%</td>\n",
       "    </tr>\n",
       "    <tr>\n",
       "      <th>11</th>\n",
       "      <td>0.010</td>\n",
       "      <td>2000</td>\n",
       "      <td>128</td>\n",
       "      <td>2</td>\n",
       "      <td>500</td>\n",
       "      <td>500</td>\n",
       "      <td>0</td>\n",
       "      <td>RELU</td>\n",
       "      <td>98.40%</td>\n",
       "      <td>93.26%</td>\n",
       "    </tr>\n",
       "    <tr>\n",
       "      <th>12</th>\n",
       "      <td>0.010</td>\n",
       "      <td>2000</td>\n",
       "      <td>64</td>\n",
       "      <td>2</td>\n",
       "      <td>400</td>\n",
       "      <td>400</td>\n",
       "      <td>0</td>\n",
       "      <td>RELU</td>\n",
       "      <td>100%</td>\n",
       "      <td>92.45%</td>\n",
       "    </tr>\n",
       "    <tr>\n",
       "      <th>13</th>\n",
       "      <td>0.010</td>\n",
       "      <td>2000</td>\n",
       "      <td>256</td>\n",
       "      <td>2</td>\n",
       "      <td>400</td>\n",
       "      <td>400</td>\n",
       "      <td>0</td>\n",
       "      <td>RELU</td>\n",
       "      <td>98.40%</td>\n",
       "      <td>92.81%</td>\n",
       "    </tr>\n",
       "    <tr>\n",
       "      <th>14</th>\n",
       "      <td>0.010</td>\n",
       "      <td>2000</td>\n",
       "      <td>128</td>\n",
       "      <td>3</td>\n",
       "      <td>400</td>\n",
       "      <td>400</td>\n",
       "      <td>400</td>\n",
       "      <td>RELU</td>\n",
       "      <td>12.50%</td>\n",
       "      <td>9.80%</td>\n",
       "    </tr>\n",
       "    <tr>\n",
       "      <th>15</th>\n",
       "      <td>0.001</td>\n",
       "      <td>2000</td>\n",
       "      <td>128</td>\n",
       "      <td>3</td>\n",
       "      <td>400</td>\n",
       "      <td>400</td>\n",
       "      <td>400</td>\n",
       "      <td>RELU</td>\n",
       "      <td>98.40%</td>\n",
       "      <td>92.27%</td>\n",
       "    </tr>\n",
       "    <tr>\n",
       "      <th>16</th>\n",
       "      <td>0.001</td>\n",
       "      <td>1000</td>\n",
       "      <td>128</td>\n",
       "      <td>3</td>\n",
       "      <td>1000</td>\n",
       "      <td>1000</td>\n",
       "      <td>1000</td>\n",
       "      <td>RELU</td>\n",
       "      <td>94.50%</td>\n",
       "      <td>91.30%</td>\n",
       "    </tr>\n",
       "    <tr>\n",
       "      <th>17</th>\n",
       "      <td>0.010</td>\n",
       "      <td>1000</td>\n",
       "      <td>256</td>\n",
       "      <td>2</td>\n",
       "      <td>512</td>\n",
       "      <td>512</td>\n",
       "      <td>0</td>\n",
       "      <td>RELU</td>\n",
       "      <td>98.00%</td>\n",
       "      <td>96.02%</td>\n",
       "    </tr>\n",
       "  </tbody>\n",
       "</table>\n",
       "</div>"
      ],
      "text/plain": [
       "    learning Rate  Num_steps       ...        Training Accuracy   Test Accuracy \n",
       "0           0.100        500       ...                    79.70%          74.47%\n",
       "1           0.100       5000       ...                    91.40%          88.84%\n",
       "2           0.100       1000       ...                    80.50%          81.44%\n",
       "3           0.100       2000       ...                    89.80%          85.70%\n",
       "4           0.100       2000       ...                    93.00%          86.07%\n",
       "5           0.100       2000       ...                    93.00%          86.97%\n",
       "6           0.100       2000       ...                    94.50%          87.72%\n",
       "7           0.100       2000       ...                    82.00%          82.84%\n",
       "8           0.100       2000       ...                     8.60%           9.80%\n",
       "9           0.010       2000       ...                    98.40%          93.08%\n",
       "10          0.001       2000       ...                    93.00%          89.50%\n",
       "11          0.010       2000       ...                    98.40%          93.26%\n",
       "12          0.010       2000       ...                      100%          92.45%\n",
       "13          0.010       2000       ...                    98.40%          92.81%\n",
       "14          0.010       2000       ...                    12.50%           9.80%\n",
       "15          0.001       2000       ...                    98.40%          92.27%\n",
       "16          0.001       1000       ...                    94.50%          91.30%\n",
       "17          0.010       1000       ...                    98.00%          96.02%\n",
       "\n",
       "[18 rows x 10 columns]"
      ]
     },
     "execution_count": 523,
     "metadata": {},
     "output_type": "execute_result"
    }
   ],
   "source": [
    "mydata"
   ]
  },
  {
   "cell_type": "markdown",
   "metadata": {},
   "source": [
    "I actually tested out 69 different models. Obviously, I only recorded the results for 17 of them shown above which I felt was a sufficient amount to record on. I also created a tensorboard that has the different parameters of all of the 69 models.\n",
    "\n",
    "My final model results were with the following parameters:\n",
    "Learning Rate: 0.01\n",
    "Epochs: 1000\n",
    "Batch Size: 256\n",
    "Number of Hidden Nodes: 2\n",
    "Hidden Layer 1 Neurons: 512\n",
    "Hidden Layer 2 Neurons: 512\n",
    "Activation Function: RELU\n",
    "Optimizer: Adam\n",
    "Accuracy on Training: 98%\n",
    "Accuracy on Test:96.02%\n",
    "\n",
    "I felt like the learning rate was a very important feature. Depending on its value it either made it to where I got close to 96% accuracy or it completely failed and got like 9% accuracy. This makes sense. If you have too big of a learning rate then you are going to \"jump\" around the local minimum, but never arrive to it. If the learning rate is too small then it will take forever to get to the local minimum and we might end up with really low accuracy because we haven't done sufficent number of steps. Number of steps seemed to be important to a point. If I didn't do enough training then it caused some problems, but if I did \"too many\" training it didn't seem to be detramental nor beneficial. \n",
    "\n",
    "Activation function didn't seem to matter too much as long as you had a learning rate that worked with the activation function chosen. For example, in model 8 and 9 from above the only difference between the models is the learning rate which made all the difference in the final accuracy. Batch size didn't seem to be too important either. In models 11-13 I tried out different batch sizes while leaving the rest of the other parameters the same.It still produced test accuracy scores that were pretty similiar.  Maybe if I made more drastic of a change with the batch size it would have had more of an impact. I tried up to 4 hidden layers. It didn't seem to have a huge impact in this case. I got similiar results with all hidden layers, so I decided simplicity is better in this case and ended with only 2 hidden layers. This probably didn't make too big of a difference because of the dataset itself. If we had more \"complex\" data it could require more hidden layers. I tried out two different optimizers. Adam and normal Gradient Descent. I didn't record them in my chart so I can't really say what their impact was in this case."
   ]
  }
 ],
 "metadata": {
  "kernelspec": {
   "display_name": "Python 3",
   "language": "python",
   "name": "python3"
  },
  "language_info": {
   "codemirror_mode": {
    "name": "ipython",
    "version": 3
   },
   "file_extension": ".py",
   "mimetype": "text/x-python",
   "name": "python",
   "nbconvert_exporter": "python",
   "pygments_lexer": "ipython3",
   "version": "3.6.5"
  }
 },
 "nbformat": 4,
 "nbformat_minor": 2
}
